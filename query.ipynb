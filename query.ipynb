{
  "cells": [
    {
      "cell_type": "code",
      "execution_count": 1,
      "metadata": {
        "colab": {
          "base_uri": "https://localhost:8080/"
        },
        "id": "8ClH9SfjMS7-",
        "outputId": "0d6ff86b-4a87-454c-eaad-e012a764f61a"
      },
      "outputs": [],
      "source": [
        "from langchain.chains import RetrievalQA\n",
        "from langchain.prompts import PromptTemplate\n",
        "from langchain.chat_models import ChatOpenAI\n",
        "from langchain.memory import ConversationBufferMemory\n",
        "from langchain.vectorstores import Chroma\n",
        "from langchain.embeddings.openai import OpenAIEmbeddings\n",
        "from langchain.text_splitter import RecursiveCharacterTextSplitter\n",
        "from langchain.document_loaders import TextLoader\n",
        "import openai\n",
        "import os\n",
        "import dotenv\n",
        "import json"
      ]
    },
    {
      "cell_type": "code",
      "execution_count": 2,
      "metadata": {},
      "outputs": [],
      "source": [
        "urls = {\n",
        "    \"start_urls\": [\"https://www.amazon.in/s?k=laptop\"]\n",
        "}\n",
        "\n",
        "with open(\"scraper/config.json\", \"w\") as f:\n",
        "    json.dump(urls, f)"
      ]
    },
    {
      "cell_type": "code",
      "execution_count": 3,
      "metadata": {},
      "outputs": [
        {
          "name": "stdout",
          "output_type": "stream",
          "text": [
            "2023-11-28 10:15:26 [scrapy.utils.log] INFO: Scrapy 2.11.0 started (bot: scraper)\n",
            "2023-11-28 10:15:26 [scrapy.utils.log] INFO: Versions: lxml 4.9.3.0, libxml2 2.10.3, cssselect 1.2.0, parsel 1.8.1, w3lib 2.1.2, Twisted 22.10.0, Python 3.11.4 (main, Jun  9 2023, 07:59:55) [GCC 12.3.0], pyOpenSSL 23.3.0 (OpenSSL 3.1.4 24 Oct 2023), cryptography 41.0.5, Platform Linux-6.2.0-37-generic-x86_64-with-glibc2.37\n",
            "2023-11-28 10:15:26 [scrapy.addons] INFO: Enabled addons:\n",
            "[]\n",
            "2023-11-28 10:15:26 [asyncio] DEBUG: Using selector: EpollSelector\n",
            "2023-11-28 10:15:26 [scrapy.utils.log] DEBUG: Using reactor: twisted.internet.asyncioreactor.AsyncioSelectorReactor\n",
            "2023-11-28 10:15:26 [scrapy.utils.log] DEBUG: Using asyncio event loop: asyncio.unix_events._UnixSelectorEventLoop\n",
            "2023-11-28 10:15:26 [scrapy.extensions.telnet] INFO: Telnet Password: 6d42639523d05f78\n",
            "2023-11-28 10:15:26 [scrapy.middleware] INFO: Enabled extensions:\n",
            "['scrapy.extensions.corestats.CoreStats',\n",
            " 'scrapy.extensions.telnet.TelnetConsole',\n",
            " 'scrapy.extensions.memusage.MemoryUsage',\n",
            " 'scrapy.extensions.logstats.LogStats']\n",
            "2023-11-28 10:15:26 [scrapy.crawler] INFO: Overridden settings:\n",
            "{'BOT_NAME': 'scraper',\n",
            " 'FEED_EXPORT_ENCODING': 'utf-8',\n",
            " 'NEWSPIDER_MODULE': 'scraper.spiders',\n",
            " 'REQUEST_FINGERPRINTER_IMPLEMENTATION': '2.7',\n",
            " 'ROBOTSTXT_OBEY': True,\n",
            " 'SPIDER_MODULES': ['scraper.spiders'],\n",
            " 'TWISTED_REACTOR': 'twisted.internet.asyncioreactor.AsyncioSelectorReactor'}\n",
            "2023-11-28 10:15:26 [scrapy.middleware] INFO: Enabled downloader middlewares:\n",
            "['scrapy.downloadermiddlewares.robotstxt.RobotsTxtMiddleware',\n",
            " 'scrapy.downloadermiddlewares.httpauth.HttpAuthMiddleware',\n",
            " 'scrapy.downloadermiddlewares.downloadtimeout.DownloadTimeoutMiddleware',\n",
            " 'scrapy.downloadermiddlewares.defaultheaders.DefaultHeadersMiddleware',\n",
            " 'scrapy.downloadermiddlewares.useragent.UserAgentMiddleware',\n",
            " 'scrapy.downloadermiddlewares.retry.RetryMiddleware',\n",
            " 'scrapy.downloadermiddlewares.redirect.MetaRefreshMiddleware',\n",
            " 'scrapy.downloadermiddlewares.httpcompression.HttpCompressionMiddleware',\n",
            " 'scrapy.downloadermiddlewares.redirect.RedirectMiddleware',\n",
            " 'scrapy.downloadermiddlewares.cookies.CookiesMiddleware',\n",
            " 'scrapy.downloadermiddlewares.httpproxy.HttpProxyMiddleware',\n",
            " 'scrapy.downloadermiddlewares.stats.DownloaderStats']\n",
            "2023-11-28 10:15:26 [scrapy.middleware] INFO: Enabled spider middlewares:\n",
            "['scrapy.spidermiddlewares.httperror.HttpErrorMiddleware',\n",
            " 'scrapy.spidermiddlewares.offsite.OffsiteMiddleware',\n",
            " 'scrapy.spidermiddlewares.referer.RefererMiddleware',\n",
            " 'scrapy.spidermiddlewares.urllength.UrlLengthMiddleware',\n",
            " 'scrapy.spidermiddlewares.depth.DepthMiddleware']\n",
            "2023-11-28 10:15:26 [scrapy.middleware] INFO: Enabled item pipelines:\n",
            "[]\n",
            "2023-11-28 10:15:26 [scrapy.core.engine] INFO: Spider opened\n",
            "2023-11-28 10:15:26 [scrapy.extensions.logstats] INFO: Crawled 0 pages (at 0 pages/min), scraped 0 items (at 0 items/min)\n",
            "2023-11-28 10:15:26 [scrapy.extensions.telnet] INFO: Telnet console listening on 127.0.0.1:6023\n",
            "2023-11-28 10:15:29 [scrapy.core.engine] DEBUG: Crawled (200) <GET https://www.amazon.in/robots.txt> (referer: None)\n",
            "2023-11-28 10:15:31 [scrapy.core.engine] DEBUG: Crawled (200) <GET https://www.amazon.in/s?k=laptop> (referer: None)\n",
            "2023-11-28 10:15:32 [main] DEBUG: Data: {'nav-logo-locale': ['.in'], 'nav-line-1 nav-progressive-content': ['Delivering to Mumbai 400001', 'Hello, sign in'], 'nav-line-2 nav-progressive-content': ['Update location'], 'nav-search-label nav-progressive-content': ['All'], 'nav-line-2 ': ['Account & Lists'], 'nav-line-1': ['Returns'], 'nav-line-2': ['& Orders', 'Cart'], 'hm-icon-label': ['All'], 'a-color-state a-text-bold': ['\"laptop\"'], 'a-color-base': ['Save up to 28% with GST invoice and get bulk discounts', 'Get it by', 'Get it by', 'FREE Delivery by Amazon', 'FREE Delivery by Amazon', 'Get it by', 'Get it by', 'FREE Delivery by Amazon', 'FREE Delivery by Amazon', 'Get it by', 'Get it by', 'FREE Delivery by Amazon', 'FREE Delivery by Amazon', '₹51,600', 'Get it by', 'Get it by', 'FREE Delivery by Amazon', 'FREE Delivery by Amazon', 'Get it by', 'Get it by', 'FREE Delivery by Amazon', 'FREE Delivery by Amazon', 'Get it by', 'Get it by', 'FREE Delivery by Amazon', 'FREE Delivery by Amazon', 'Get it by', 'Get it by', 'FREE Delivery by Amazon', 'FREE Delivery by Amazon', 'Get it by', 'Get it by', 'FREE Delivery by Amazon', 'FREE Delivery by Amazon', 'Get it by', 'Get it by', 'FREE Delivery by Amazon', 'FREE Delivery by Amazon', '₹1,500 coupon applied at checkout', 'with coupon', 'Get it by', 'Get it by', 'FREE Delivery by Amazon', 'FREE Delivery by Amazon', 'Get it by', 'Get it by', 'FREE Delivery by Amazon', 'FREE Delivery by Amazon', 'Get it by', 'Get it by', 'FREE Delivery by Amazon', 'FREE Delivery by Amazon', '₹1,000 coupon applied at checkout', 'with coupon', 'Get it by', 'Get it by', 'FREE Delivery by Amazon', 'FREE Delivery by Amazon', 'Get it by', 'Get it by', 'FREE Delivery by Amazon', 'FREE Delivery by Amazon', 'Get it by', 'Get it by', 'FREE Delivery by Amazon', 'FREE Delivery by Amazon', 'Get it by', 'Get it by', 'FREE Delivery by Amazon', 'FREE Delivery by Amazon'], 'a-color-secondary': ['Learn more', 'Save extra with No Cost EMI', 'Save extra with No Cost EMI', 'Save extra with No Cost EMI', 'Save extra with No Cost EMI', 'Save extra with No Cost EMI', 'Save extra with No Cost EMI', 'Save extra with No Cost EMI', 'Save extra with No Cost EMI', 'Receive 1 Sleeve Carry Case free when you purchase 1 or more JioBook Laptop offered by Appario Retail Private Ltd.', 'Flat Rs 5000 Off on HDFC Bank Credit Card', 'Save extra with No Cost EMI'], 'a-size-medium-plus a-color-base a-text-bold': ['Results', 'More results', 'More results'], 'a-declarative': ['HP 255 G9 (840T7PA) Notebook (AMD Athlon Silver-3050U/ 4GB RAM/ 256GB SSD/DOS/ 15.6\" Screen/ 1 Year Warranty), Black', '4.2 out of 5 stars', '4.2 out of 5 stars', 'FUTOPIA All-New ULTIMUS Pro, Celeron N4020c Thin & Light (4GB RAM/128GB eMMC, 14.1-inch (35.8 cm) HD Display/Win 11 Home/Matt Black/1.20 Kg) NU14U3INC43BN-MB', '3.8 out of 5 stars', '3.8 out of 5 stars', 'HP Laptop 15s, 11th Gen Intel Core i5-1155G7, 15.6-inch (39.6 cm), FHD, 16GB DDR4, 512GB SSD, Intel Iris Xe Graphics, Backlit KB, Thin & Light (Win 11, MSO 2021, Silver, 1.69 kg), fr4001TU', '4.0 out of 5 stars', '4.0 out of 5 stars', '(3 new offers)', 'ASUS VivoBook 15 (2021), 15.6-inch (39.62 cm) HD, Dual Core Intel Celeron N4020, Thin and Light Laptop (4GB RAM/256GB SSD/Integrated Graphics/Windows 11 Home/Transparent Silver/1.8 Kg), X515MA-BR011W', '3.9 out of 5 stars', '3.9 out of 5 stars', 'Acer Aspire 3 Thin and Light Laptop Intel Core i5 12th Generation (Windows 11 Home/8 GB/512 GB SSD) A315-59 with 15.6-inch (39.6 cms) Full HD Display, 1.7 KG, Pure Silver', \"Chuwi CoreBook X Laptop 14'', Intel Core i3-1005G1, 8GB RAM 512GB SSD, Windows 11 Laptop, 1920x1200 FHD Display, Up to 3.4Ghz | WiFi 6 | Backlit Keyboard | Webcam | BT5.1 | Type-C\", '4.0 out of 5 stars', '4.0 out of 5 stars', 'HP Laptop 15s, 12th Gen Intel Core i3-1215U, 15.6-inch (39.6 cm), FHD, 8GB DDR4, 512GB SSD, Intel UHD Graphics, Backlit KB, Thin & Light, Dual Speakers (Win 11, MSO 2021, Silver, 1.69 kg), fq5007TU', '4.1 out of 5 stars', '4.1 out of 5 stars', 'Lenovo V15 G4 AMD Athlon Silver 7120U Laptop with 8GB LPDDR5 Ram, 512 GB SSD PCIe, Windows 11 with Lifetime Validity,15.6\" FHD Screen, AMD Radeon 610M, Silver, 1 Year Brand Warranty', '4.0 out of 5 stars', '4.0 out of 5 stars', 'Acer Aspire Lite AMD Ryzen 5 5500U Premium Metal Laptop (8GB RAM/512GB SSD/Windows 11 Home) AL15-41, 39.62cm (15.6\") Full HD Display, Metal Body, Steel Gray, 1.59 Kg', '4.0 out of 5 stars', '4.0 out of 5 stars', 'Dell 15 Vostro 3510 Laptop, Intel Core i3-1115G4, 8GB/1TB + 256GB SSD/15.6\" (39.62cm) FHD with Comfort View/Mobile Connect/Windows 11 + MSO\\'21/15 Month McAfee/Spill-Resistant Keyboard/Carbon/1.69kg', '3.8 out of 5 stars', '3.8 out of 5 stars', 'Acer [SmartChoice] One 14 Business Laptop AMD Ryzen 3 3250U Processor (8GB RAM/256GB SSD/AMD Radeon Graphics/Windows 11 Home) Z2-493 with 35.56 cm (14.0\") HD Display', '3.8 out of 5 stars', '3.8 out of 5 stars', 'HP Laptop 15s, 11th Gen Intel Core i3-1125G4, 15.6-inch (39.6 cm), FHD, 8GB DDR4, 512GB SSD, Intel UHD Graphics, Thin & Light, Dual Speakers (Win 11, MSO 2021, Silver, 1.69 kg), fq2673TU', '4.1 out of 5 stars', '4.1 out of 5 stars', 'ASUS Vivobook 14, Intel Core i3-1115G4 11th Gen, 14\" (35.56 cms) FHD, Thin and Light Laptop (8GB/512GB SSD/Windows 11/Office 2021/Transparent Silver/1.60 kg), X1400EA-EK322WS', '3.9 out of 5 stars', '3.9 out of 5 stars', 'JioBook 11 (2023) NB1112MM(BLU) (Mediatek 8788 Octa-core 2 GHz/ARM Mali G72 MP3 @800 MHz/29.5cms 60 Hz/Thin and Light Laptop/ 4 GB LPDDR4/ 64 GB eMMC/JioOS 4G LTE, Dual Band Wi-Fi/Blue/ 990 GMS)', '2.9 out of 5 stars', '2.9 out of 5 stars', 'Samsung Galaxy Book3 Core i7 13th Gen 1355U - (16 GB/512 GB SSD/Windows 11 Home) Galaxy Book3 Thin and Light Laptop\\xa0\\xa0(15.6 Inch, Graphite, 1.58 Kg, with MS Office)', '4.3 out of 5 stars', '4.3 out of 5 stars', 'Acer Aspire Lite 12th Gen Intel Core i3-1215U Premium Metal Laptop (8GB RAM/512GB SSD/Windows 11 Home) AL15-52, 39.62cm (15.6\") Full HD Display, Metal Body, Steel Gray, 1.59 Kg', '3.9 out of 5 stars', '3.9 out of 5 stars'], 'a-size-medium a-color-base a-text-normal': ['HP 255 G9 (840T7PA) Notebook (AMD Athlon Silver-3050U/ 4GB RAM/ 256GB SSD/DOS/ 15.6\" Screen/ 1 Year Warranty), Black', 'FUTOPIA All-New ULTIMUS Pro, Celeron N4020c Thin & Light (4GB RAM/128GB eMMC, 14.1-inch (35.8 cm) HD Display/Win 11 Home/Matt Black/1.20 Kg) NU14U3INC43BN-MB', 'HP Laptop 15s, 11th Gen Intel Core i5-1155G7, 15.6-inch (39.6 cm), FHD, 16GB DDR4, 512GB SSD, Intel Iris Xe Graphics, Backlit KB, Thin & Light (Win 11, MSO 2021, Silver, 1.69 kg), fr4001TU', 'ASUS VivoBook 15 (2021), 15.6-inch (39.62 cm) HD, Dual Core Intel Celeron N4020, Thin and Light Laptop (4GB RAM/256GB SSD/Integrated Graphics/Windows 11 Home/Transparent Silver/1.8 Kg), X515MA-BR011W', 'Acer Aspire 3 Thin and Light Laptop Intel Core i5 12th Generation (Windows 11 Home/8 GB/512 GB SSD) A315-59 with 15.6-inch (39.6 cms) Full HD Display, 1.7 KG, Pure Silver', \"Chuwi CoreBook X Laptop 14'', Intel Core i3-1005G1, 8GB RAM 512GB SSD, Windows 11 Laptop, 1920x1200 FHD Display, Up to 3.4Ghz | WiFi 6 | Backlit Keyboard | Webcam | BT5.1 | Type-C\", 'HP Laptop 15s, 12th Gen Intel Core i3-1215U, 15.6-inch (39.6 cm), FHD, 8GB DDR4, 512GB SSD, Intel UHD Graphics, Backlit KB, Thin & Light, Dual Speakers (Win 11, MSO 2021, Silver, 1.69 kg), fq5007TU', 'Lenovo V15 G4 AMD Athlon Silver 7120U Laptop with 8GB LPDDR5 Ram, 512 GB SSD PCIe, Windows 11 with Lifetime Validity,15.6\" FHD Screen, AMD Radeon 610M, Silver, 1 Year Brand Warranty', 'Acer Aspire Lite AMD Ryzen 5 5500U Premium Metal Laptop (8GB RAM/512GB SSD/Windows 11 Home) AL15-41, 39.62cm (15.6\") Full HD Display, Metal Body, Steel Gray, 1.59 Kg', 'Dell 15 Vostro 3510 Laptop, Intel Core i3-1115G4, 8GB/1TB + 256GB SSD/15.6\" (39.62cm) FHD with Comfort View/Mobile Connect/Windows 11 + MSO\\'21/15 Month McAfee/Spill-Resistant Keyboard/Carbon/1.69kg', 'Acer [SmartChoice] One 14 Business Laptop AMD Ryzen 3 3250U Processor (8GB RAM/256GB SSD/AMD Radeon Graphics/Windows 11 Home) Z2-493 with 35.56 cm (14.0\") HD Display', 'HP Laptop 15s, 11th Gen Intel Core i3-1125G4, 15.6-inch (39.6 cm), FHD, 8GB DDR4, 512GB SSD, Intel UHD Graphics, Thin & Light, Dual Speakers (Win 11, MSO 2021, Silver, 1.69 kg), fq2673TU', 'ASUS Vivobook 14, Intel Core i3-1115G4 11th Gen, 14\" (35.56 cms) FHD, Thin and Light Laptop (8GB/512GB SSD/Windows 11/Office 2021/Transparent Silver/1.60 kg), X1400EA-EK322WS', 'JioBook 11 (2023) NB1112MM(BLU) (Mediatek 8788 Octa-core 2 GHz/ARM Mali G72 MP3 @800 MHz/29.5cms 60 Hz/Thin and Light Laptop/ 4 GB LPDDR4/ 64 GB eMMC/JioOS 4G LTE, Dual Band Wi-Fi/Blue/ 990 GMS)', 'Samsung Galaxy Book3 Core i7 13th Gen 1355U - (16 GB/512 GB SSD/Windows 11 Home) Galaxy Book3 Thin and Light Laptop\\xa0\\xa0(15.6 Inch, Graphite, 1.58 Kg, with MS Office)', 'Acer Aspire Lite 12th Gen Intel Core i3-1215U Premium Metal Laptop (8GB RAM/512GB SSD/Windows 11 Home) AL15-52, 39.62cm (15.6\") Full HD Display, Metal Body, Steel Gray, 1.59 Kg'], 'a-icon-alt': ['4.2 out of 5 stars', '3.8 out of 5 stars', '4.0 out of 5 stars', '3.9 out of 5 stars', '4.0 out of 5 stars', '4.1 out of 5 stars', '4.0 out of 5 stars', '4.0 out of 5 stars', '3.8 out of 5 stars', '3.8 out of 5 stars', '4.1 out of 5 stars', '3.9 out of 5 stars', '2.9 out of 5 stars', '4.3 out of 5 stars', '3.9 out of 5 stars', '4 Stars & Up', '3 Stars & Up', '2 Stars & Up', '1 Star & Up'], 'a-link-normal s-underline-text s-underline-link-text s-link-style': ['10', '4', '322', '1,176', '3,915', '1,928', '1', '166', '457', '267', '1,928', '77', '144', '44', '434'], 'a-size-base s-underline-text': ['10', '4', '322', '1,176', '3,915', '1,928', '1', '166', '457', '267', '1,928', '77', '144', '44', '434'], 'a-size-base a-color-secondary': ['100+ bought in past month', 'M.R.P:', 'M.R.P:', '500+ bought in past month', 'M.R.P:', 'More Buying Choices', '100+ bought in past month', 'M.R.P:', 'M.R.P:', '300+ bought in past month', 'M.R.P:', '500+ bought in past month', 'M.R.P:', '100+ bought in past month', 'M.R.P:', '100+ bought in past month', 'M.R.P:', '200+ bought in past month', 'M.R.P:', '300+ bought in past month', 'M.R.P:', '500+ bought in past month', 'M.R.P:', 'Alexa Built-in devices let you talk directly to Alexa, allowing you to play music, control your Smart Home, get news, weather and more using your voice.', '300+ bought in past month', 'M.R.P:', '50+ bought in past month', 'M.R.P:', 'M.R.P:', '400+ bought in past month', 'M.R.P:'], 'a-price': ['₹19,839', '₹11,990', '₹51,800', '₹25,990', '₹39,990', '₹23,990', '₹40,990', '₹25,490', '₹35,490', '₹36,980', '₹23,990', '₹37,990', '₹32,990', '₹14,701', '₹84,990', '₹32,999'], 'a-offscreen': ['₹19,839', '₹27,063', '₹11,990', '₹24,990', '₹51,800', '₹66,566', '₹25,990', '₹33,990', '₹39,990', '₹55,999', '₹23,990', '₹49,990', '₹40,990', '₹56,261', '₹25,490', '₹38,000', '₹35,490', '₹56,990', '₹36,980', '₹51,362', '₹23,990', '₹38,999', '₹37,990', '₹49,557', '₹32,990', '₹50,990', '₹14,701', '₹25,000', '₹84,990', '₹1,12,990', '₹32,999', '₹52,990'], 'a-price-symbol': ['₹', '₹', '₹', '₹', '₹', '₹', '₹', '₹', '₹', '₹', '₹', '₹', '₹', '₹', '₹', '₹', '₹', '₹', '₹', '₹', '₹', '₹', '₹', '₹', '₹', '₹', '₹', '₹', '₹', '₹', '₹', '₹'], 'a-price-whole': ['19,839', '11,990', '51,800', '25,990', '39,990', '23,990', '40,990', '25,490', '35,490', '36,980', '23,990', '37,990', '32,990', '14,701', '84,990', '32,999'], 'a-price a-text-price': ['₹27,063', '₹24,990', '₹66,566', '₹33,990', '₹55,999', '₹49,990', '₹56,261', '₹38,000', '₹56,990', '₹51,362', '₹38,999', '₹49,557', '₹50,990', '₹25,000', '₹1,12,990', '₹52,990'], 'rush-component': ['Save extra with No Cost EMI', 'Save extra with No Cost EMI', 'Save extra with No Cost EMI', 'Save extra with No Cost EMI', 'Save extra with No Cost EMI', 'Save extra with No Cost EMI', '₹1,500 coupon applied at checkout', 'Save extra with No Cost EMI', 'Save extra with No Cost EMI', '₹1,000 coupon applied at checkout', 'Receive 1 Sleeve Carry Case free when you purchase 1 or more JioBook Laptop offered by Appario Retail Private Ltd.', 'Flat Rs 5000 Off on HDFC Bank Credit Card', 'Save extra with No Cost EMI'], 'a-truncate': ['Save extra with No Cost EMI', 'Save extra with No Cost EMI', 'Save extra with No Cost EMI', 'Save extra with No Cost EMI', 'Save extra with No Cost EMI', 'Save extra with No Cost EMI', 'Save extra with No Cost EMI', 'Save extra with No Cost EMI', 'Receive 1 Sleeve Carry Case free when you purchase 1 or more JioBook Laptop offered by Appario Retail Private Ltd.', 'Flat Rs 5000 Off on HDFC Bank Credit Card', 'Save extra with No Cost EMI'], 'a-truncate-full': ['Save extra with No Cost EMI', 'Save extra with No Cost EMI', 'Save extra with No Cost EMI', 'Save extra with No Cost EMI', 'Save extra with No Cost EMI', 'Save extra with No Cost EMI', 'Save extra with No Cost EMI', 'Save extra with No Cost EMI', 'Receive 1 Sleeve Carry Case free when you purchase 1 or more JioBook Laptop offered by Appario Retail Private Ltd.', 'Flat Rs 5000 Off on HDFC Bank Credit Card', 'Save extra with No Cost EMI'], 'a-color-base a-text-bold': ['Tomorrow, 29 November', 'Tomorrow, 29 November', 'Tomorrow, 29 November', 'Tomorrow, 29 November', 'Tomorrow, 29 November', 'Today, 28 November', 'Tomorrow, 29 November', 'Tomorrow, 29 November', 'Today, 28 November', 'Tomorrow, 29 November', 'Tomorrow, 29 November', 'Tomorrow, 29 November', 'Today, 28 November', 'Today, 28 November', 'Tomorrow, 29 November', 'Tomorrow, 29 November'], 'a-size-base a-color-price': ['Only 2 left in stock.', 'Only 2 left in stock.'], 'a-badge': ['Deal of the Day', 'Deal of the Day', 'Deal of the Day', 'Limited time deal', 'Deal of the Day', 'Deal of the Day', 'Deal of the Day', 'Limited time deal', 'Deal of the Day', 'Deal of the Day'], 'a-badge-label': ['Deal of the Day', 'Deal of the Day', 'Deal of the Day', 'Limited time deal', 'Deal of the Day', 'Deal of the Day', 'Deal of the Day', 'Limited time deal', 'Deal of the Day', 'Deal of the Day'], 'a-badge-label-inner a-text-ellipsis': ['Deal of the Day', 'Deal of the Day', 'Deal of the Day', 'Limited time deal', 'Deal of the Day', 'Deal of the Day', 'Deal of the Day', 'Limited time deal', 'Deal of the Day', 'Deal of the Day'], 'a-badge-text': ['Deal of the Day', 'Deal of the Day', 'Deal of the Day', 'Limited time deal', 'Deal of the Day', 'Deal of the Day', 'Deal of the Day', 'Limited time deal', 'Deal of the Day', 'Deal of the Day'], 's-coupon-clipped aok-hidden': ['₹1,500 coupon applied at checkout', '₹1,000 coupon applied at checkout'], 's-coupon-unclipped': ['Save ₹1,500', 'Save ₹1,000'], 'a-size-base s-highlighted-text-padding aok-inline-block s-coupon-highlight-color': ['Save ₹1,500', 'Save ₹1,000'], 'a-size-base a-color-base a-text-bold': ['Alexa Built-in'], 'a-size-medium-plus a-color-base': ['Related searches', 'Need help?'], 'a-size-base a-color-base s-line-clamp-2': ['laptop hp', 'computer', 'laptop dell', 'gaming laptop', 'laptop i5', 'macbook'], 's-pagination-strip': ['Previous'], 's-pagination-item s-pagination-previous s-pagination-disabled ': ['Previous'], 's-pagination-item s-pagination-selected': ['1'], 's-pagination-item s-pagination-ellipsis': ['...'], 's-pagination-item s-pagination-disabled': ['20'], 'a-size-base a-color-base': ['or', 'Get It Today', 'Get It by Tomorrow', 'Get It in 2 Days', 'Laptops', 'Traditional Laptops', 'ASUS', 'Acer', 'Dell', 'Lenovo', 'MSI', 'HP', 'Honor', 'AVITA', 'GIGABYTE', 'FUTOPIA', 'Infinix', 'GADGETS WRAP', '5 Ace', 'Flausen', 'Regatech', 'Under ₹20,000', '₹20,000 – ₹30,000', '₹30,000 – ₹40,000', '₹40,000 – ₹50,000', 'Over ₹50,000', 'All Discounts', \"Today's Deals\", 'Top Brands', 'AMD', 'Intel', 'MediaTek', 'NVIDIA', 'Qualcomm', '1', '2', '4', '5', '6', '8', '10', '12', '14', '16', '24', 'AMOLED', 'LCD', 'LED', 'OLED', 'Up to 0.9 kg', '1.0 to 1.4 kg', '1.5 to 1.9 kg', '2.0 to 2.4 kg', '2.5 kg & above', 'AMD A8', 'AMD Ryzen 3', 'AMD Ryzen 5', 'AMD Ryzen 7', 'AMD Ryzen 9', 'Intel Celeron', 'Intel Core i3', 'Intel Core i5', 'Intel Core i7', 'Intel Core i9', 'Intel Pentium', 'Anti Glare Coating', 'Backlit Keyboard', 'Fingerprint Reader', 'HD Audio', 'Memory Card Slot', 'Numeric Keypad', 'Spill resistant', 'Support Stylus', 'TrackPoint', '1 to 1.59 GHz', '1.60 to 1.79 GHz', '1.80 to 1.99 GHz', '2.00 to 2.49 GHz', '2.50 to 2.99 GHz', '3.00 to 3.49 GHz', '3.50 to 3.99 GHz', '4.0 GHz & Above', 'Windows 11 Home', 'Windows 11 Pro', 'Windows 10 Home', 'Windows 10 Pro', 'Windows 10 in S mode', 'Windows Legacy System', 'Chrome', 'Linux', 'DOS', 'Up to 159 GB', '160 - 249 GB', '250 - 499 GB', '500 - 999 GB', '1 TB & above', 'Emmc', 'HDD', 'SSD', 'Chromebook', 'Convertible 2 in 1', 'Notebook', 'Ultrabook', 'AMD Radeon R5 Series', 'AMD Radeon R7 Series', 'AMD Radeon RX Vega Series', 'Nvidia GeForce GT Series', 'Nvidia GeForce GTX Series', 'Nvidia GeForce RTX Series', 'Nvidia GeForce Series', 'Bluetooth', 'Ethernet', 'HDMI', 'USB', 'Wi-Fi', 'Up to 10\"', '11\" - 12\"', '13\" - 14\"', '15\" - 16\"', '17\" & More', '1080p', '4K', '720p', 'QWERTY', 'Touch Pad', 'Touchscreen', 'Touchscreen with Stylus Support', 'Front', 'Face Recognition', 'Fingerprint Recognition', 'Iris Recognition', '4 GB', '8 GB', '16 GB', '32 GB', '64 GB', '3.5mm Audio', '802.11 ac/b/g/n', 'AV Port', 'Bluetooth', 'Bluetooth 4.0', 'Bluetooth 5', 'D-Sub', 'DisplayPort', 'Ethernet', 'HDMI', 'Headphone', 'Lightning', 'MicroSD', 'PCI Express 3.0', 'PCI Express 4.0', 'PCI Express x4', 'SATA 3.0 Gb/s', 'SATA 6.0 Gb/s', 'SDHC', 'SDXC', 'Secure Digital Card', 'Solid State Drive', 'Thunderbolt', 'Thunderbolt 4', 'USB', 'USB 2.0 Type A', 'USB 3.0 Type C', 'USB 3.1 Type C', 'USB 3.2 Gen 1', 'USB 3.2 Gen 2', 'VGA', 'DDR3', 'DDR4', 'DDR5', 'LPDDR4', 'LPDDR4X', 'LPDDR5', 'Business', 'Gaming', 'Student', 'Intel Iris Xe Graphics', 'NVIDIA GeForce GTX 1650', 'NVIDIA GeForce GTX 1660Ti', 'NVIDIA GeForce RTX 3050', 'NVIDIA GeForce RTX 3050 Ti', 'NVIDIA GeForce RTX 3060', 'NVIDIA GeForce RTX 3070 Ti', 'AMD Radeon 680M', 'AMD Radeon R5', 'AMD Radeon R7', 'AMD Radeon RX 6700S', 'AMD Radeon RX Vega 8', 'AMD Radeon Vega 3', 'AMD Radeon Vega 7', 'Intel HD Graphics 5000', 'Intel HD Graphics 515', 'Intel HD Graphics 620', 'Intel HD Graphics 630', 'Intel Iris Plus', 'Intel Iris Xe Max Graphics', 'Intel UHD Graphics', 'Intel UHD Graphics 600', 'Intel UHD Graphics 620', 'Intel UHD Graphics 630', 'NVIDIA GeForce MX330', 'NVIDIA GeForce MX350', 'NVIDIA GeForce MX450', 'NVIDIA GeForce RTX 2050', 'Wi-Fi 6', 'Up to 1 GB', '2 to 3 GB', '4 to 5 GB', '6 to 7 GB', '8 GB & Above', 'Up to 4h', '5 to 7h', '8 to 10h', '11h & above', '2G', '4G', '5G', '1366 x 768 pixel', '1900 x 1200 pixel', '1920 x 1080 pixel', '1920 x 1200 pixel', '2560 x 1440 pixel', '2560 x 1600 pixel', '2880 x 1800 pixel', '3840 x 2160 pixel', '59 to 89.9 Hz', '90 to 120.9 Hz', '121 Hz & Above', 'Last 30 days', 'Last 90 days', 'New', 'Renewed', '10% Off or more', '25% Off or more', '35% Off or more', '50% Off or more', '60% Off or more', '70% Off or more', 'Eligible for Pay On Delivery', 'Include Out of Stock'], 'a-size-base a-color-base puis-bold-weight-text': ['Delivery Day', 'Category', 'Customer Review', 'Brand', 'Price Desktops', 'Deals & Discounts', 'Computers & Accessories Brands', 'Laptop CPU Manufacturer', 'Computer Processor Count', 'Display Type', 'Laptop Weight', 'CPU Type', 'Special Features', 'CPU Processor Speed', 'Operating System', 'HDD Size', 'Laptop Computer Hard Disk Description', 'Laptop Type', 'Graphics Processor', 'Notebook Computer Connectivity Technology', 'Laptop Display Size', 'Resolution', 'Keyboard Layout', 'Human Interface Input', 'Camera Description', 'Biometric Security Feature', 'Notebook Computer RAM Memory Size', 'Notebook Computer Hardware Interface', 'Notebook Computer RAM Memory Technology', 'Laptop Usage', 'Graphics Coprocessor', 'Wi-Fi Generation', 'Laptop Dedicated Graphics Memory', 'Laptop Battery Life', 'Laptop Cellular Technology', 'Laptop Display Resolution', 'Laptop Computer Refresh Rate', 'New Arrivals', 'Item Condition', 'Discount', 'Pay On Delivery', 'Availability'], 'a-size-small a-color-base': ['& Up', '& Up', '& Up', '& Up'], 'a-expander-prompt': ['See more', 'See more', 'See more', 'See more', 'See more'], 'a-color-base s-ref-small-padding-left s-ref-price-currency': ['₹', '₹'], 'a-button a-spacing-top-mini a-button-base s-small-margin-left': ['Go'], 'a-button-inner': ['Go'], 'a-button-text': ['Go'], 'no-rvi-message': ['After viewing product detail pages, look here to find an easy way to navigate back to pages you are interested in.', 'After viewing product detail pages, look here to find an easy way to navigate back to pages you are interested in.'], 'navFooterBackToTopText': ['Back to top'], 'icp-color-base': ['English'], 'navFooterDescText': ['Books, art', 'Scalable Cloud', 'Download', 'Movies, TV', 'Designer', 'Everything For', '2-Hour Delivery', '100 million songs, ad-free']}\n",
            "2023-11-28 10:15:32 [main] DEBUG: Data saved as JSON in output.json\n",
            "2023-11-28 10:15:32 [scrapy.core.engine] INFO: Closing spider (finished)\n",
            "2023-11-28 10:15:32 [scrapy.statscollectors] INFO: Dumping Scrapy stats:\n",
            "{'downloader/request_bytes': 448,\n",
            " 'downloader/request_count': 2,\n",
            " 'downloader/request_method_count/GET': 2,\n",
            " 'downloader/response_bytes': 80807,\n",
            " 'downloader/response_count': 2,\n",
            " 'downloader/response_status_count/200': 2,\n",
            " 'elapsed_time_seconds': 6.388359,\n",
            " 'finish_reason': 'finished',\n",
            " 'finish_time': datetime.datetime(2023, 11, 28, 4, 45, 32, 613822, tzinfo=datetime.timezone.utc),\n",
            " 'httpcompression/response_bytes': 546158,\n",
            " 'httpcompression/response_count': 2,\n",
            " 'log_count/DEBUG': 7,\n",
            " 'log_count/INFO': 10,\n",
            " 'memusage/max': 114810880,\n",
            " 'memusage/startup': 114810880,\n",
            " 'response_received_count': 2,\n",
            " 'robotstxt/request_count': 1,\n",
            " 'robotstxt/response_count': 1,\n",
            " 'robotstxt/response_status_count/200': 1,\n",
            " 'scheduler/dequeued': 1,\n",
            " 'scheduler/dequeued/memory': 1,\n",
            " 'scheduler/enqueued': 1,\n",
            " 'scheduler/enqueued/memory': 1,\n",
            " 'start_time': datetime.datetime(2023, 11, 28, 4, 45, 26, 225463, tzinfo=datetime.timezone.utc)}\n",
            "2023-11-28 10:15:32 [scrapy.core.engine] INFO: Spider closed (finished)\n"
          ]
        }
      ],
      "source": [
        "! cd scraper && scrapy crawl main\n",
        "! cd .."
      ]
    },
    {
      "cell_type": "code",
      "execution_count": 4,
      "metadata": {},
      "outputs": [],
      "source": [
        "dotenv.load_dotenv()\n",
        "os.environ[\"OPENAI_API_KEY\"] = os.getenv(\"OPENAI_API_KEY\")\n",
        "openai.api_key = os.getenv(\"OPENAI_API_KEY\")"
      ]
    },
    {
      "cell_type": "code",
      "execution_count": 5,
      "metadata": {},
      "outputs": [],
      "source": [
        "text_loader = TextLoader(\"scraper/output.json\")\n",
        "pages = text_loader.load()"
      ]
    },
    {
      "cell_type": "code",
      "execution_count": 6,
      "metadata": {
        "colab": {
          "base_uri": "https://localhost:8080/"
        },
        "id": "gbqdMKCAMsjb",
        "outputId": "257d70b0-4fd4-4d5d-b1af-3e0f0d2c0158"
      },
      "outputs": [
        {
          "name": "stdout",
          "output_type": "stream",
          "text": [
            "ok\n",
            "1550\n"
          ]
        }
      ],
      "source": [
        "persist_directory = 'docs/chroma/'\n",
        "\n",
        "text_splitter = RecursiveCharacterTextSplitter(\n",
        "    chunk_size=400,\n",
        "    chunk_overlap=100\n",
        ")\n",
        "\n",
        "splits = text_splitter.split_documents(pages)\n",
        "\n",
        "len(splits)\n",
        "\n",
        "embedding = OpenAIEmbeddings()\n",
        "\n",
        "vectordb = Chroma(\n",
        "    embedding_function=embedding,\n",
        "    persist_directory=persist_directory\n",
        ")\n",
        "\n",
        "len(splits)\n",
        "\n",
        "vectordb.add_documents(documents=splits[0:500])\n",
        "print('ok')\n",
        "\n",
        "vectordb.persist()\n",
        "\n",
        "print(vectordb._collection.count())\n"
      ]
    },
    {
      "cell_type": "code",
      "execution_count": 7,
      "metadata": {
        "id": "KhaY-t7OMvn0"
      },
      "outputs": [],
      "source": [
        "memory = ConversationBufferMemory(\n",
        "    memory_key=\"chat_history\",\n",
        "    return_messages=True\n",
        ")\n",
        "\n",
        "llm = ChatOpenAI(model_name=\"gpt-3.5-turbo\", temperature=0)\n",
        "\n",
        "# Build prompt\n",
        "\n",
        "with open(\"template.tpl\", \"r\") as f:\n",
        "    template = f.read()\n",
        "\n",
        "QA_CHAIN_PROMPT = PromptTemplate(\n",
        "    input_variables=[\"context\", \"question\"], template=template)\n"
      ]
    },
    {
      "cell_type": "code",
      "execution_count": 8,
      "metadata": {
        "colab": {
          "base_uri": "https://localhost:8080/",
          "height": 129
        },
        "id": "S0o2OF6WMyxQ",
        "outputId": "02aed9c0-ca11-409e-8c25-082090b320ab"
      },
      "outputs": [
        {
          "data": {
            "text/plain": [
              "'{\\n  \"name\": \"Acer Aspire 3 Thin and Light Laptop Intel Core i5 12th Generation (Windows 11 Home/8 GB/512 GB SSD) A315-59 with 15.6-inch (39.6 cms) Full HD Display, 1.7 KG, Pure Silver\",\\n  \"cost\": \"NA\",\\n  \"description\": \"NA\",\\n  \"rating out of 5\": \"3.9 out of 5 stars\"\\n}'"
            ]
          },
          "execution_count": 8,
          "metadata": {},
          "output_type": "execute_result"
        }
      ],
      "source": [
        "# Run chain\n",
        "\n",
        "question = \"name, cost, description, rating out of 5\"\n",
        "qa_chain = RetrievalQA.from_chain_type(llm,\n",
        "                                       retriever=vectordb.as_retriever(),\n",
        "                                       return_source_documents=True,\n",
        "                                       chain_type_kwargs={\"prompt\": QA_CHAIN_PROMPT})\n",
        "\n",
        "result = qa_chain({\"query\": question})\n",
        "result[\"result\"]\n"
      ]
    }
  ],
  "metadata": {
    "colab": {
      "provenance": []
    },
    "kernelspec": {
      "display_name": "Python 3",
      "name": "python3"
    },
    "language_info": {
      "codemirror_mode": {
        "name": "ipython",
        "version": 3
      },
      "file_extension": ".py",
      "mimetype": "text/x-python",
      "name": "python",
      "nbconvert_exporter": "python",
      "pygments_lexer": "ipython3",
      "version": "3.11.4"
    }
  },
  "nbformat": 4,
  "nbformat_minor": 0
}
